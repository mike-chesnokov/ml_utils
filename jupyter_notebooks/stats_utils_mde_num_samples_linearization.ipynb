{
 "cells": [
  {
   "cell_type": "markdown",
   "metadata": {},
   "source": [
    "# MDE and Number of samples calculations\n",
    "\n",
    "## 1. Minimum Detectable Effect (MDE)\n",
    "\n",
    "\n",
    "https://sphweb.bumc.bu.edu/otlt/MPH-Modules/BS/BS704_Power/BS704_Power_print.html"
   ]
  },
  {
   "cell_type": "code",
   "execution_count": 2,
   "metadata": {},
   "outputs": [],
   "source": [
    "import numpy as np\n",
    "from scipy.stats import norm\n",
    "\n",
    "\n",
    "def get_mde(a, b):\n",
    "    mean_std =  (\n",
    "          a.std()**2 / a.shape[0]\n",
    "        + b.std()**2 / b.shape[0]\n",
    "    )**0.5\n",
    "    mde = norm.ppf(0.975) / a.mean() * mean_std\n",
    "    return mde"
   ]
  },
  {
   "cell_type": "code",
   "execution_count": 3,
   "metadata": {},
   "outputs": [
    {
     "data": {
      "text/plain": [
       "105.0"
      ]
     },
     "execution_count": 3,
     "metadata": {},
     "output_type": "execute_result"
    }
   ],
   "source": [
    "70000* 0.0015"
   ]
  },
  {
   "cell_type": "code",
   "execution_count": 4,
   "metadata": {},
   "outputs": [
    {
     "data": {
      "text/plain": [
       "1.959963984540054"
      ]
     },
     "execution_count": 4,
     "metadata": {},
     "output_type": "execute_result"
    }
   ],
   "source": [
    "norm.ppf(0.975)"
   ]
  },
  {
   "cell_type": "code",
   "execution_count": 24,
   "metadata": {},
   "outputs": [
    {
     "data": {
      "text/plain": [
       "0.8416212335729143"
      ]
     },
     "execution_count": 24,
     "metadata": {},
     "output_type": "execute_result"
    }
   ],
   "source": [
    "norm.ppf(0.8)"
   ]
  },
  {
   "cell_type": "code",
   "execution_count": 25,
   "metadata": {},
   "outputs": [],
   "source": [
    "def get_mde_binominal(n_samples, p_base, alpha=0.05, beta=0.8, relative_mde=False):\n",
    "    z_alpha = norm.ppf(1-alpha/2)\n",
    "    z_beta = norm.ppf(beta)\n",
    "    \n",
    "    sigma = p_base * (1 - p_base)\n",
    "    mde = (z_alpha + z_beta) * np.sqrt(2 * sigma / n_samples)\n",
    "    \n",
    "    if relative_mde:\n",
    "        return mde /p_base\n",
    "    else:\n",
    "        return mde"
   ]
  },
  {
   "cell_type": "code",
   "execution_count": 26,
   "metadata": {},
   "outputs": [
    {
     "data": {
      "text/plain": [
       "0.38636539366739764"
      ]
     },
     "execution_count": 26,
     "metadata": {},
     "output_type": "execute_result"
    }
   ],
   "source": [
    "num_samples = 70000\n",
    "prob_conversion = 0.0015\n",
    "\n",
    "# relative Minimum Detectable Effect\n",
    "get_mde_binominal(num_samples, prob_conversion, relative_mde=True)"
   ]
  },
  {
   "cell_type": "code",
   "execution_count": 29,
   "metadata": {},
   "outputs": [
    {
     "data": {
      "text/plain": [
       "0.0005795480905010965"
      ]
     },
     "execution_count": 29,
     "metadata": {},
     "output_type": "execute_result"
    }
   ],
   "source": [
    "# relative Minimum Detectable Effect\n",
    "get_mde_binominal(num_samples, prob_conversion, relative_mde=False)"
   ]
  },
  {
   "cell_type": "code",
   "execution_count": 27,
   "metadata": {},
   "outputs": [
    {
     "data": {
      "text/plain": [
       "0.44703599358331125"
      ]
     },
     "execution_count": 27,
     "metadata": {},
     "output_type": "execute_result"
    }
   ],
   "source": [
    "get_mde_binominal(num_samples, prob_conversion, beta=0.9, relative_mde=True)"
   ]
  },
  {
   "cell_type": "code",
   "execution_count": 28,
   "metadata": {},
   "outputs": [
    {
     "data": {
      "text/plain": [
       "0.27029777697456575"
      ]
     },
     "execution_count": 28,
     "metadata": {},
     "output_type": "execute_result"
    }
   ],
   "source": [
    "get_mde_binominal(num_samples, prob_conversion, beta=0.5, relative_mde=True)"
   ]
  },
  {
   "cell_type": "markdown",
   "metadata": {},
   "source": [
    "## 2. Number of samples"
   ]
  },
  {
   "cell_type": "code",
   "execution_count": 27,
   "metadata": {},
   "outputs": [],
   "source": [
    "import numpy as np\n",
    "from scipy.stats import norm\n",
    "\n",
    "\n",
    "def get_num_samples_binomial(mde, p_base, alpha=0.05, beta=0.8, relative_mde=False):\n",
    "    z_alpha = norm.ppf(1-alpha/2)\n",
    "    z_beta = norm.ppf(beta)\n",
    "    \n",
    "    sigma = p_base * (1 - p_base)\n",
    "    \n",
    "    if relative_mde:\n",
    "        mde = mde * p_base\n",
    "        \n",
    "    n_samples = 2 * sigma * ((z_alpha + z_beta)/ mde)**2\n",
    "    \n",
    "    return n_samples"
   ]
  },
  {
   "cell_type": "code",
   "execution_count": 16,
   "metadata": {},
   "outputs": [
    {
     "data": {
      "text/plain": [
       "0.001388888888888889"
      ]
     },
     "execution_count": 16,
     "metadata": {},
     "output_type": "execute_result"
    }
   ],
   "source": [
    "0.05/36"
   ]
  },
  {
   "cell_type": "code",
   "execution_count": 28,
   "metadata": {},
   "outputs": [
    {
     "data": {
      "text/plain": [
       "15494.55648640007"
      ]
     },
     "execution_count": 28,
     "metadata": {},
     "output_type": "execute_result"
    }
   ],
   "source": [
    "mde = 0.01\n",
    "prob_conversion = 0.05\n",
    "num_groups = 36\n",
    "p_value = 0.05\n",
    "alpha = p_value/ num_groups\n",
    "\n",
    "get_num_samples_binomial(mde, prob_conversion, alpha, beta=0.8, relative_mde=False)"
   ]
  },
  {
   "cell_type": "code",
   "execution_count": 29,
   "metadata": {},
   "outputs": [
    {
     "data": {
      "text/plain": [
       "15494.556486400064"
      ]
     },
     "execution_count": 29,
     "metadata": {},
     "output_type": "execute_result"
    }
   ],
   "source": [
    "mde = 0.2\n",
    "prob_conversion = 0.05\n",
    "num_groups = 36\n",
    "p_value = 0.05\n",
    "alpha = p_value/ num_groups\n",
    "\n",
    "get_num_samples_binomial(mde, prob_conversion, alpha, beta=0.8, relative_mde=True)"
   ]
  },
  {
   "cell_type": "code",
   "execution_count": 23,
   "metadata": {},
   "outputs": [
    {
     "data": {
      "text/plain": [
       "13956.838283519304"
      ]
     },
     "execution_count": 23,
     "metadata": {},
     "output_type": "execute_result"
    }
   ],
   "source": [
    "mde = 0.01\n",
    "prob_conversion = 0.05\n",
    "num_groups = 18\n",
    "p_value = 0.05\n",
    "alpha = p_value/ num_groups\n",
    "\n",
    "get_num_samples_binomial(mde, prob_conversion, alpha, beta=0.8, relative_mde=False)"
   ]
  },
  {
   "cell_type": "code",
   "execution_count": 18,
   "metadata": {},
   "outputs": [
    {
     "data": {
      "text/plain": [
       "17025.466096419925"
      ]
     },
     "execution_count": 18,
     "metadata": {},
     "output_type": "execute_result"
    }
   ],
   "source": [
    "mde = 0.01\n",
    "prob_conversion = 0.05\n",
    "num_groups = 72\n",
    "p_value = 0.05\n",
    "alpha = p_value/ num_groups\n",
    "\n",
    "get_num_samples_binomial(mde, prob_conversion, alpha, beta=0.8, relative_mde=False)"
   ]
  },
  {
   "cell_type": "code",
   "execution_count": 22,
   "metadata": {},
   "outputs": [
    {
     "data": {
      "text/plain": [
       "8141.105452499457"
      ]
     },
     "execution_count": 22,
     "metadata": {},
     "output_type": "execute_result"
    }
   ],
   "source": [
    "mde = 0.01\n",
    "prob_conversion = 0.05\n",
    "num_groups = 36\n",
    "p_value = 0.05\n",
    "alpha = 0.037\n",
    "\n",
    "get_num_samples_binomial(mde, prob_conversion, alpha, beta=0.8, relative_mde=False)"
   ]
  },
  {
   "cell_type": "code",
   "execution_count": 17,
   "metadata": {},
   "outputs": [
    {
     "data": {
      "text/plain": [
       "10219.241414122514"
      ]
     },
     "execution_count": 17,
     "metadata": {},
     "output_type": "execute_result"
    }
   ],
   "source": [
    "mde = 0.01\n",
    "prob_conversion = 0.07\n",
    "#num_groups = 36\n",
    "#p_value = 0.05\n",
    "alpha = 0.05\n",
    "\n",
    "get_num_samples_binomial(mde, prob_conversion, alpha, beta=0.8, relative_mde=False)"
   ]
  },
  {
   "cell_type": "markdown",
   "metadata": {},
   "source": [
    "### Several experiment sequental false positive error"
   ]
  },
  {
   "cell_type": "code",
   "execution_count": 9,
   "metadata": {},
   "outputs": [],
   "source": [
    "p_value = 0.05\n",
    "num_groups = 36\n",
    "num_weeks = 1\n",
    "\n",
    "alpha = p_value / num_groups\n",
    "\n",
    "def prob_error(alpha, num_weeks, num_groups):\n",
    "    return 1 - (1 - alpha**num_weeks)**num_groups"
   ]
  },
  {
   "cell_type": "code",
   "execution_count": 10,
   "metadata": {},
   "outputs": [
    {
     "data": {
      "text/plain": [
       "0.04880363433838786"
      ]
     },
     "execution_count": 10,
     "metadata": {},
     "output_type": "execute_result"
    }
   ],
   "source": [
    "p_value = 0.05\n",
    "num_groups = 36\n",
    "num_weeks = 1\n",
    "\n",
    "alpha = p_value / num_groups\n",
    "\n",
    "prob_error(alpha, num_weeks, num_groups)"
   ]
  },
  {
   "cell_type": "code",
   "execution_count": 11,
   "metadata": {},
   "outputs": [
    {
     "data": {
      "text/plain": [
       "0.009951541573787304"
      ]
     },
     "execution_count": 11,
     "metadata": {},
     "output_type": "execute_result"
    }
   ],
   "source": [
    "p_value = 0.01\n",
    "num_groups = 36\n",
    "num_weeks = 1\n",
    "\n",
    "alpha = p_value / num_groups\n",
    "\n",
    "prob_error(alpha, num_weeks, num_groups)"
   ]
  },
  {
   "cell_type": "code",
   "execution_count": 12,
   "metadata": {},
   "outputs": [
    {
     "data": {
      "text/plain": [
       "6.944210020831676e-05"
      ]
     },
     "execution_count": 12,
     "metadata": {},
     "output_type": "execute_result"
    }
   ],
   "source": [
    "p_value = 0.05\n",
    "num_groups = 36\n",
    "num_weeks = 2\n",
    "\n",
    "alpha = p_value / num_groups\n",
    "\n",
    "prob_error(alpha, num_weeks, num_groups)"
   ]
  },
  {
   "cell_type": "code",
   "execution_count": 13,
   "metadata": {},
   "outputs": [
    {
     "data": {
      "text/plain": [
       "2.7777740249090854e-06"
      ]
     },
     "execution_count": 13,
     "metadata": {},
     "output_type": "execute_result"
    }
   ],
   "source": [
    "p_value = 0.01\n",
    "num_groups = 36\n",
    "num_weeks = 2\n",
    "\n",
    "alpha = p_value / num_groups\n",
    "\n",
    "prob_error(alpha, num_weeks, num_groups)"
   ]
  },
  {
   "cell_type": "markdown",
   "metadata": {},
   "source": [
    "## Methods"
   ]
  },
  {
   "cell_type": "code",
   "execution_count": 1,
   "metadata": {},
   "outputs": [],
   "source": [
    "def sample_size_binomial(mde, p, alpha=0.05, beta=0.1):\n",
    "    \"\"\"\n",
    "        Определить размер групп для AB-теста с минимальным детектируемым эффектом p_1-p_0\n",
    "        Значения в выборках: пропорции из [0, 1]\n",
    "    \"\"\"\n",
    "    \n",
    "    Z_alpha = st.norm.ppf(1 - alpha/2)\n",
    "    Z_beta = st.norm.ppf(1 - beta)\n",
    "    std = np.sqrt(p * (1 - p))\n",
    "    N = 2 * (std * (Z_alpha + Z_beta) / mde) ** 2\n",
    "    \n",
    "    return int(N) + 1\n",
    "\n",
    "\n",
    "def sample_size_continuous(mde, std, alpha=0.05, beta=0.1):    \n",
    "    \"\"\"\n",
    "        Определить размер групп для AB-теста с минимальным детектируемым эффектом mde\n",
    "        Значения в выборках: непрерывные\n",
    "\n",
    "        Parameters\n",
    "        ----------\n",
    "        mde - минимальная разница средних, которую хотим детектировать\n",
    "        std - предпосчитанная std для объединенной выборки\n",
    "    \"\"\"\n",
    "    \n",
    "    Z_alpha = st.norm.ppf(1 - alpha/2)\n",
    "    Z_beta = st.norm.ppf(1 - beta)\n",
    "    N = 2 * (std * (Z_alpha + Z_beta) / mde) ** 2\n",
    "    \n",
    "    return int(N) + 1"
   ]
  },
  {
   "cell_type": "markdown",
   "metadata": {},
   "source": [
    "## 3. Linearization"
   ]
  },
  {
   "cell_type": "code",
   "execution_count": 2,
   "metadata": {},
   "outputs": [],
   "source": [
    "def get_linearization_pvalue(\n",
    "    g0, g1, metric_colname\n",
    "):\n",
    "    # g0 - объекты из контроля\n",
    "    # g1 - объекты из таргета\n",
    "    # metric_colname - метрика, сейчас сумма платежей объекта.\n",
    "\n",
    "    k = (\n",
    "        g0[metric_colname].sum()\n",
    "        / g0['students_cnt'].sum()\n",
    "    )\n",
    "    g0['lin_rev'] = g0[metric_colname] - k * g0['students_cnt']\n",
    "    g1['lin_rev'] = g1[metric_colname] - k * g1['students_cnt'] \n",
    "    pvalue = ttest_ind(\n",
    "        g0.lin_rev,\n",
    "        g1.lin_rev,\n",
    "        equal_var = False\n",
    "    )[1]\n",
    "    \n",
    "    return pvalue\n",
    "\n",
    "def get_delta_method_pvalue(g0, g1, metric_colname):\n",
    "    # g0 - объекты из контроля\n",
    "    # g1 - объекты из таргета\n",
    "    # metric_colname - метрика, сейчас сумма платежей объекта.\n",
    "    \n",
    "    # school = user\n",
    "    # students_cnt = cnt of impressions\n",
    "    # metric_colname = ctr on impression (for ex.)\n",
    "\n",
    "    def ratio_metric_variance(\n",
    "        numerator_by_user_array,\n",
    "        denominator_by_user_array\n",
    "    ): \n",
    "        X_d_mean = np.mean(denominator_by_user_array)\n",
    "        X_n_mean = np.mean(numerator_by_user_array)\n",
    "        X_d_variance = np.var(denominator_by_user_array)\n",
    "        X_n_variance = np.var(numerator_by_user_array)\n",
    "        X_d_n_covariance = np.cov(\n",
    "            denominator_by_user_array,\n",
    "            numerator_by_user_array,\n",
    "            bias=True\n",
    "        )[0][1]\n",
    "        return (\n",
    "            (X_n_variance)/(X_d_mean**2)\n",
    "            - 2*X_n_mean*X_d_n_covariance/(X_d_mean**3)\n",
    "            + (X_n_mean**2) * (X_d_variance)/(X_d_mean**4)\n",
    "        )\n",
    "    \n",
    "    con_var = ratio_metric_variance(\n",
    "        g0[metric_colname], g0['students_cnt']\n",
    "    )\n",
    "    exp_var = ratio_metric_variance(\n",
    "        g1[metric_colname], g1['students_cnt']\n",
    "    )\n",
    "\n",
    "    con_mean = g0[metric_colname].sum() / g0['students_cnt'].sum()\n",
    "    exp_mean = g1[metric_colname].sum() / g1['students_cnt'].sum()\n",
    "\n",
    "    z_stats = (exp_mean - con_mean) / np.sqrt(\n",
    "        con_var/g0.shape[0] + exp_var/g1.shape[0])\n",
    "    pvalue = 2 * np.minimum(\n",
    "        scipy.stats.norm(0, 1).cdf(z_stats),\n",
    "        1 - scipy.stats.norm(0, 1).cdf(z_stats)\n",
    "    )\n",
    "    return pvalue"
   ]
  },
  {
   "cell_type": "code",
   "execution_count": null,
   "metadata": {},
   "outputs": [],
   "source": [
    "import itertools\n",
    "import numpy as np\n",
    "from scipy import stats\n",
    "from statsmodels.stats import proportion\n",
    "\n",
    "\n",
    "def continuous_ttest(control_values, test_values):\n",
    "    \"\"\"T-test for the means of two independent samples\n",
    "\n",
    "    control_values: List, list of values in control group (user-level values)\n",
    "    test_values: List, list of values in test group (user-level values)\n",
    "\n",
    "    return:\n",
    "        delta - difference in means\n",
    "        p_value.\n",
    "    \"\"\"\n",
    "    _, p_value = stats.ttest_ind(control_values, test_values)\n",
    "    delta = round((np.mean(test_values) - np.mean(control_values)) /\n",
    "                  np.abs(np.mean(control_values)) * 100, 2\n",
    "                  )\n",
    "    return delta, p_value\n",
    "\n",
    "\n",
    "def linearized_ttest(control_values, test_values):\n",
    "    \"\"\"T-test for the linearized metrics of two samples\n",
    "\n",
    "    control_values: List[List], list of arrays of session-values in control group (session-level values)\n",
    "    test_values: List[List], list of arrays of session-values in test group (session-level values)\n",
    "\n",
    "    return:\n",
    "        delta - difference in means\n",
    "        p_value.\n",
    "    \"\"\"\n",
    "    control_x = np.array([np.sum(row) for row in control_values])\n",
    "    control_y = np.array([len(row) for row in control_values])\n",
    "    test_x = np.array([np.sum(row) for row in test_values])\n",
    "    test_y = np.array([len(row) for row in test_values])\n",
    "    coef = np.sum(control_x) / np.sum(control_y)\n",
    "    control_lin = control_x - coef * control_y\n",
    "    test_lin = test_x - coef * test_y\n",
    "    _, p_value = stats.ttest_ind(control_lin, test_lin)\n",
    "    ### Delta for means:\n",
    "    delta = round(\n",
    "        (np.mean(list(itertools.chain(*test_values))) - np.mean(list(itertools.chain(*control_values)))) /\n",
    "        np.abs(np.mean(list(itertools.chain(*control_values)))) * 100, 2\n",
    "    )\n",
    "    return delta, p_value\n",
    "\n",
    "\n",
    "def proportion_ztest(control_values, test_values):\n",
    "    \"\"\"Z-test for proportions of two independent samples\n",
    "\n",
    "    control_values: List[np.array], list of arrays of session-values in control group (session-level values)\n",
    "    test_values: List[np.array], list of arrays of session-values in test group (session-level values)\n",
    "\n",
    "    return:\n",
    "        delta - difference in means\n",
    "        p_value.\n",
    "    \"\"\"\n",
    "    counts = np.array([sum(control_values), sum(test_values)])\n",
    "    nobs = np.array([len(control_values), len(test_values)])\n",
    "    _, p_value = proportion.proportions_ztest(counts, nobs)\n",
    "    delta = round((np.mean(test_values) - np.mean(control_values)) /\n",
    "                  np.abs(np.mean(control_values)) * 100, 2\n",
    "                 )\n",
    "    return delta, p_value"
   ]
  }
 ],
 "metadata": {
  "kernelspec": {
   "display_name": "Python 3 (ipykernel)",
   "language": "python",
   "name": "python3"
  },
  "language_info": {
   "codemirror_mode": {
    "name": "ipython",
    "version": 3
   },
   "file_extension": ".py",
   "mimetype": "text/x-python",
   "name": "python",
   "nbconvert_exporter": "python",
   "pygments_lexer": "ipython3",
   "version": "3.11.1"
  },
  "toc": {
   "base_numbering": 1,
   "nav_menu": {},
   "number_sections": true,
   "sideBar": true,
   "skip_h1_title": false,
   "title_cell": "Table of Contents",
   "title_sidebar": "Contents",
   "toc_cell": false,
   "toc_position": {},
   "toc_section_display": true,
   "toc_window_display": false
  },
  "varInspector": {
   "cols": {
    "lenName": 16,
    "lenType": 16,
    "lenVar": 40
   },
   "kernels_config": {
    "python": {
     "delete_cmd_postfix": "",
     "delete_cmd_prefix": "del ",
     "library": "var_list.py",
     "varRefreshCmd": "print(var_dic_list())"
    },
    "r": {
     "delete_cmd_postfix": ") ",
     "delete_cmd_prefix": "rm(",
     "library": "var_list.r",
     "varRefreshCmd": "cat(var_dic_list()) "
    }
   },
   "types_to_exclude": [
    "module",
    "function",
    "builtin_function_or_method",
    "instance",
    "_Feature"
   ],
   "window_display": false
  }
 },
 "nbformat": 4,
 "nbformat_minor": 2
}
