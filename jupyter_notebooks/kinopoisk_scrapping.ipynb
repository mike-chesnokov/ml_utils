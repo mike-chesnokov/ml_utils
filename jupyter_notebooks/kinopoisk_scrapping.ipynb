{
 "cells": [
  {
   "cell_type": "markdown",
   "metadata": {},
   "source": [
    "# Parsing open sources"
   ]
  },
  {
   "cell_type": "code",
   "execution_count": 1,
   "metadata": {},
   "outputs": [
    {
     "name": "stderr",
     "output_type": "stream",
     "text": [
      "/opt/jupyter/lib64/python3.6/site-packages/psycopg2/__init__.py:144: UserWarning: The psycopg2 wheel package will be renamed from release 2.8; in order to keep installing from binary please use \"pip install psycopg2-binary\" instead. For details see: <http://initd.org/psycopg/docs/install.html#binary-install-from-pypi>.\n",
      "  \"\"\")\n"
     ]
    }
   ],
   "source": [
    "import re\n",
    "import random\n",
    "import pickle\n",
    "import requests\n",
    "from collections import defaultdict\n",
    "from itertools import product\n",
    "from urllib.parse import unquote\n",
    "\n",
    "import psycopg2\n",
    "import numpy as np\n",
    "import pandas as pd\n",
    "import scrapy\n",
    "from scrapy.crawler import CrawlerProcess\n",
    "\n",
    "from postgresql_client import PostgreSQLClient\n",
    "\n",
    "import seaborn as sns\n",
    "import matplotlib.pyplot as plt\n",
    "import matplotlib.cm as cm\n",
    "%matplotlib inline\n",
    "plt.style.use('seaborn-poster')"
   ]
  },
  {
   "cell_type": "markdown",
   "metadata": {},
   "source": [
    "## Create link project_id -> project_title"
   ]
  },
  {
   "cell_type": "code",
   "execution_count": 2,
   "metadata": {},
   "outputs": [
    {
     "name": "stdout",
     "output_type": "stream",
     "text": [
      "(198, 2)\n",
      "CPU times: user 2.81 ms, sys: 1.73 ms, total: 4.54 ms\n",
      "Wall time: 222 ms\n"
     ]
    }
   ],
   "source": [
    "%%time\n",
    "client = PostgreSQLClient()\n",
    "query = \"\"\"\n",
    "WITH object_ids AS (\n",
    "    SELECT \n",
    "        DISTINCT object_id AS project_id\n",
    "        --COUNT(DISTINCT object_id)\n",
    "    FROM opossum.person_object_relationship_vw\n",
    "    WHERE 1=1\n",
    "        AND object_type = 'project'\n",
    ")\n",
    "SELECT \n",
    "    projects.project_id,\n",
    "    projects.project_title\n",
    "FROM opossum.project_vw AS projects\n",
    "INNER JOIN object_ids ON 1=1\n",
    "    AND projects.project_id = object_ids.project_id\n",
    "\"\"\"\n",
    "project_id_title = client.get_data(query)\n",
    "project_id_title = pd.DataFrame(project_id_title, columns=['project_id', 'project_title'])\n",
    "print(project_id_title.shape)"
   ]
  },
  {
   "cell_type": "code",
   "execution_count": 3,
   "metadata": {},
   "outputs": [],
   "source": [
    "search_str = 'https://www.kinopoisk.ru/index.php?kp_query='\n",
    "project_id_title['search_query'] = project_id_title['project_title'].apply(lambda x: search_str+x)"
   ]
  },
  {
   "cell_type": "code",
   "execution_count": 15,
   "metadata": {},
   "outputs": [
    {
     "data": {
      "text/plain": [
       "project_id                                                     674\n",
       "project_title                                  НЕфутбольная страна\n",
       "search_query     https://www.kinopoisk.ru/index.php?kp_query=НЕ...\n",
       "Name: 156, dtype: object"
      ]
     },
     "execution_count": 15,
     "metadata": {},
     "output_type": "execute_result"
    }
   ],
   "source": [
    "project_id_title.iloc[156]"
   ]
  },
  {
   "cell_type": "markdown",
   "metadata": {},
   "source": [
    "## Find kinopoisk id over serch through kinopoisk site"
   ]
  },
  {
   "cell_type": "code",
   "execution_count": 3,
   "metadata": {},
   "outputs": [],
   "source": [
    "class KinopoiskSearchSpider(scrapy.Spider):\n",
    "    name = \"yandex.help\"\n",
    "    \n",
    "    custom_settings = {\n",
    "        'DOWNLOAD_DELAY': 7,\n",
    "        'DOWNLOAD_TIMEOUT' : 30,\n",
    "        'RETRY_ENABLED': False,\n",
    "        #'HTTPPROXY_ENABLED': True\n",
    "    }\n",
    "    \n",
    "    def __init__(self, search_query_urls):\n",
    "        super().__init__()\n",
    "        \n",
    "        self.search_query_urls = search_query_urls\n",
    "        \n",
    "    def start_requests(self):\n",
    "        \n",
    "        urls = self.search_query_urls\n",
    "\n",
    "        for url in urls:\n",
    "            yield scrapy.Request(url=url, callback=self.parse)\n",
    "\n",
    "    def parse(self, response):\n",
    "       \n",
    "        project_title = response.url.split('=')[1]\n",
    "        project_id_kinopoisk = response.xpath(\"//div[@class='element most_wanted']//@data-id\").extract_first()\n",
    "        scraped_info = {\n",
    "            'project_title': project_title,\n",
    "            'project_id_kinopoisk': project_id_kinopoisk\n",
    "        }\n",
    "        yield scraped_info"
   ]
  },
  {
   "cell_type": "code",
   "execution_count": null,
   "metadata": {},
   "outputs": [],
   "source": [
    "process = CrawlerProcess(settings={\n",
    "    'FEED_FORMAT': 'csv',\n",
    "    'FEED_URI': 'kinopoisk_search.csv'\n",
    "})\n",
    "process.crawl(KinopoiskSearchSpider, search_query_urls=project_id_title['search_query'].values.tolist())\n",
    "process.start()"
   ]
  },
  {
   "cell_type": "code",
   "execution_count": 16,
   "metadata": {},
   "outputs": [],
   "source": [
    "temp_data = pd.read_csv('kinopoisk_search.csv')\n",
    "temp_data['project_id_kinopoisk'] = temp_data['project_id_kinopoisk'].fillna(-1)\n",
    "temp_data['project_title_rus'] = temp_data['project_title'].apply(lambda x: unquote(x))"
   ]
  },
  {
   "cell_type": "code",
   "execution_count": 29,
   "metadata": {},
   "outputs": [
    {
     "data": {
      "text/html": [
       "<div>\n",
       "<style scoped>\n",
       "    .dataframe tbody tr th:only-of-type {\n",
       "        vertical-align: middle;\n",
       "    }\n",
       "\n",
       "    .dataframe tbody tr th {\n",
       "        vertical-align: top;\n",
       "    }\n",
       "\n",
       "    .dataframe thead th {\n",
       "        text-align: right;\n",
       "    }\n",
       "</style>\n",
       "<table border=\"1\" class=\"dataframe\">\n",
       "  <thead>\n",
       "    <tr style=\"text-align: right;\">\n",
       "      <th></th>\n",
       "      <th>project_id</th>\n",
       "      <th>project_title</th>\n",
       "      <th>search_query</th>\n",
       "    </tr>\n",
       "  </thead>\n",
       "  <tbody>\n",
       "    <tr>\n",
       "      <th>0</th>\n",
       "      <td>30</td>\n",
       "      <td>Экстрасенсы ведут расследование</td>\n",
       "      <td>https://www.kinopoisk.ru/index.php?kp_query=Эк...</td>\n",
       "    </tr>\n",
       "    <tr>\n",
       "      <th>1</th>\n",
       "      <td>31</td>\n",
       "      <td>Полицейский с Рублёвки</td>\n",
       "      <td>https://www.kinopoisk.ru/index.php?kp_query=По...</td>\n",
       "    </tr>\n",
       "    <tr>\n",
       "      <th>2</th>\n",
       "      <td>32</td>\n",
       "      <td>Школа ремонта</td>\n",
       "      <td>https://www.kinopoisk.ru/index.php?kp_query=Шк...</td>\n",
       "    </tr>\n",
       "    <tr>\n",
       "      <th>3</th>\n",
       "      <td>33</td>\n",
       "      <td>Ольга</td>\n",
       "      <td>https://www.kinopoisk.ru/index.php?kp_query=Ольга</td>\n",
       "    </tr>\n",
       "    <tr>\n",
       "      <th>4</th>\n",
       "      <td>34</td>\n",
       "      <td>Адаптация</td>\n",
       "      <td>https://www.kinopoisk.ru/index.php?kp_query=Ад...</td>\n",
       "    </tr>\n",
       "  </tbody>\n",
       "</table>\n",
       "</div>"
      ],
      "text/plain": [
       "   project_id                    project_title  \\\n",
       "0          30  Экстрасенсы ведут расследование   \n",
       "1          31           Полицейский с Рублёвки   \n",
       "2          32                    Школа ремонта   \n",
       "3          33                            Ольга   \n",
       "4          34                        Адаптация   \n",
       "\n",
       "                                        search_query  \n",
       "0  https://www.kinopoisk.ru/index.php?kp_query=Эк...  \n",
       "1  https://www.kinopoisk.ru/index.php?kp_query=По...  \n",
       "2  https://www.kinopoisk.ru/index.php?kp_query=Шк...  \n",
       "3  https://www.kinopoisk.ru/index.php?kp_query=Ольга  \n",
       "4  https://www.kinopoisk.ru/index.php?kp_query=Ад...  "
      ]
     },
     "execution_count": 29,
     "metadata": {},
     "output_type": "execute_result"
    }
   ],
   "source": [
    "project_id_title.head()"
   ]
  },
  {
   "cell_type": "code",
   "execution_count": 58,
   "metadata": {},
   "outputs": [
    {
     "data": {
      "text/html": [
       "<div>\n",
       "<style scoped>\n",
       "    .dataframe tbody tr th:only-of-type {\n",
       "        vertical-align: middle;\n",
       "    }\n",
       "\n",
       "    .dataframe tbody tr th {\n",
       "        vertical-align: top;\n",
       "    }\n",
       "\n",
       "    .dataframe thead th {\n",
       "        text-align: right;\n",
       "    }\n",
       "</style>\n",
       "<table border=\"1\" class=\"dataframe\">\n",
       "  <thead>\n",
       "    <tr style=\"text-align: right;\">\n",
       "      <th></th>\n",
       "      <th>project_id</th>\n",
       "      <th>project_title</th>\n",
       "      <th>search_query</th>\n",
       "      <th>project_id_kinopoisk</th>\n",
       "    </tr>\n",
       "  </thead>\n",
       "  <tbody>\n",
       "    <tr>\n",
       "      <th>0</th>\n",
       "      <td>30</td>\n",
       "      <td>Экстрасенсы ведут расследование</td>\n",
       "      <td>https://www.kinopoisk.ru/index.php?kp_query=Эк...</td>\n",
       "      <td>927654.0</td>\n",
       "    </tr>\n",
       "    <tr>\n",
       "      <th>1</th>\n",
       "      <td>31</td>\n",
       "      <td>Полицейский с Рублёвки</td>\n",
       "      <td>https://www.kinopoisk.ru/index.php?kp_query=По...</td>\n",
       "      <td>913033.0</td>\n",
       "    </tr>\n",
       "    <tr>\n",
       "      <th>2</th>\n",
       "      <td>32</td>\n",
       "      <td>Школа ремонта</td>\n",
       "      <td>https://www.kinopoisk.ru/index.php?kp_query=Шк...</td>\n",
       "      <td>916853.0</td>\n",
       "    </tr>\n",
       "    <tr>\n",
       "      <th>3</th>\n",
       "      <td>33</td>\n",
       "      <td>Ольга</td>\n",
       "      <td>https://www.kinopoisk.ru/index.php?kp_query=Ольга</td>\n",
       "      <td>940680.0</td>\n",
       "    </tr>\n",
       "    <tr>\n",
       "      <th>4</th>\n",
       "      <td>34</td>\n",
       "      <td>Адаптация</td>\n",
       "      <td>https://www.kinopoisk.ru/index.php?kp_query=Ад...</td>\n",
       "      <td>584.0</td>\n",
       "    </tr>\n",
       "  </tbody>\n",
       "</table>\n",
       "</div>"
      ],
      "text/plain": [
       "   project_id                    project_title  \\\n",
       "0          30  Экстрасенсы ведут расследование   \n",
       "1          31           Полицейский с Рублёвки   \n",
       "2          32                    Школа ремонта   \n",
       "3          33                            Ольга   \n",
       "4          34                        Адаптация   \n",
       "\n",
       "                                        search_query  project_id_kinopoisk  \n",
       "0  https://www.kinopoisk.ru/index.php?kp_query=Эк...              927654.0  \n",
       "1  https://www.kinopoisk.ru/index.php?kp_query=По...              913033.0  \n",
       "2  https://www.kinopoisk.ru/index.php?kp_query=Шк...              916853.0  \n",
       "3  https://www.kinopoisk.ru/index.php?kp_query=Ольга              940680.0  \n",
       "4  https://www.kinopoisk.ru/index.php?kp_query=Ад...                 584.0  "
      ]
     },
     "execution_count": 58,
     "metadata": {},
     "output_type": "execute_result"
    }
   ],
   "source": [
    "project_info = project_id_title.merge(temp_data[['project_title_rus', 'project_id_kinopoisk']], \n",
    "                       how='left', left_on=['project_title'], right_on=['project_title_rus'])\n",
    "project_info = project_info[['project_id', 'project_title', 'search_query', 'project_id_kinopoisk']].copy()\n",
    "project_info.head()"
   ]
  },
  {
   "cell_type": "code",
   "execution_count": 59,
   "metadata": {},
   "outputs": [
    {
     "data": {
      "text/html": [
       "<div>\n",
       "<style scoped>\n",
       "    .dataframe tbody tr th:only-of-type {\n",
       "        vertical-align: middle;\n",
       "    }\n",
       "\n",
       "    .dataframe tbody tr th {\n",
       "        vertical-align: top;\n",
       "    }\n",
       "\n",
       "    .dataframe thead th {\n",
       "        text-align: right;\n",
       "    }\n",
       "</style>\n",
       "<table border=\"1\" class=\"dataframe\">\n",
       "  <thead>\n",
       "    <tr style=\"text-align: right;\">\n",
       "      <th></th>\n",
       "      <th>project_id</th>\n",
       "      <th>project_title</th>\n",
       "      <th>search_query</th>\n",
       "      <th>project_id_kinopoisk</th>\n",
       "    </tr>\n",
       "  </thead>\n",
       "  <tbody>\n",
       "    <tr>\n",
       "      <th>28</th>\n",
       "      <td>61</td>\n",
       "      <td>САШАТАНЯ</td>\n",
       "      <td>https://www.kinopoisk.ru/index.php?kp_query=СА...</td>\n",
       "      <td>NaN</td>\n",
       "    </tr>\n",
       "    <tr>\n",
       "      <th>34</th>\n",
       "      <td>72</td>\n",
       "      <td>Филфак</td>\n",
       "      <td>https://www.kinopoisk.ru/index.php?kp_query=Фи...</td>\n",
       "      <td>NaN</td>\n",
       "    </tr>\n",
       "    <tr>\n",
       "      <th>44</th>\n",
       "      <td>87</td>\n",
       "      <td>ХБ</td>\n",
       "      <td>https://www.kinopoisk.ru/index.php?kp_query=ХБ</td>\n",
       "      <td>NaN</td>\n",
       "    </tr>\n",
       "    <tr>\n",
       "      <th>54</th>\n",
       "      <td>97</td>\n",
       "      <td>Неzлоб</td>\n",
       "      <td>https://www.kinopoisk.ru/index.php?kp_query=Не...</td>\n",
       "      <td>NaN</td>\n",
       "    </tr>\n",
       "    <tr>\n",
       "      <th>76</th>\n",
       "      <td>120</td>\n",
       "      <td>Ху из ху</td>\n",
       "      <td>https://www.kinopoisk.ru/index.php?kp_query=Ху...</td>\n",
       "      <td>NaN</td>\n",
       "    </tr>\n",
       "    <tr>\n",
       "      <th>80</th>\n",
       "      <td>125</td>\n",
       "      <td>Бешенл Джеографик</td>\n",
       "      <td>https://www.kinopoisk.ru/index.php?kp_query=Бе...</td>\n",
       "      <td>NaN</td>\n",
       "    </tr>\n",
       "  </tbody>\n",
       "</table>\n",
       "</div>"
      ],
      "text/plain": [
       "    project_id      project_title  \\\n",
       "28          61           САШАТАНЯ   \n",
       "34          72             Филфак   \n",
       "44          87                 ХБ   \n",
       "54          97             Неzлоб   \n",
       "76         120           Ху из ху   \n",
       "80         125  Бешенл Джеографик   \n",
       "\n",
       "                                         search_query  project_id_kinopoisk  \n",
       "28  https://www.kinopoisk.ru/index.php?kp_query=СА...                   NaN  \n",
       "34  https://www.kinopoisk.ru/index.php?kp_query=Фи...                   NaN  \n",
       "44     https://www.kinopoisk.ru/index.php?kp_query=ХБ                   NaN  \n",
       "54  https://www.kinopoisk.ru/index.php?kp_query=Не...                   NaN  \n",
       "76  https://www.kinopoisk.ru/index.php?kp_query=Ху...                   NaN  \n",
       "80  https://www.kinopoisk.ru/index.php?kp_query=Бе...                   NaN  "
      ]
     },
     "execution_count": 59,
     "metadata": {},
     "output_type": "execute_result"
    }
   ],
   "source": [
    "project_info[project_info['project_id_kinopoisk'].isnull()]"
   ]
  },
  {
   "cell_type": "code",
   "execution_count": 67,
   "metadata": {},
   "outputs": [],
   "source": [
    "project_info2 = project_info[~project_info['project_id_kinopoisk'].isnull()].copy()\n",
    "project_info2['project_id_kinopoisk'] = project_info2['project_id_kinopoisk'].astype(int)"
   ]
  },
  {
   "cell_type": "code",
   "execution_count": 69,
   "metadata": {
    "scrolled": true
   },
   "outputs": [],
   "source": [
    "cast_str = 'https://www.kinopoisk.ru/film/{kinopoisk_id}/cast/'\n",
    "project_info2['cast_url'] = project_info2['project_id_kinopoisk'].apply(lambda x: \n",
    "                                                                        cast_str.format(kinopoisk_id=int(x)))"
   ]
  },
  {
   "cell_type": "code",
   "execution_count": 73,
   "metadata": {},
   "outputs": [],
   "source": [
    "project_info2.to_csv('project_info2.csv', index=False, header=True)"
   ]
  },
  {
   "cell_type": "markdown",
   "metadata": {},
   "source": [
    "## Scrap cast teams from kinopoisk"
   ]
  },
  {
   "cell_type": "code",
   "execution_count": 25,
   "metadata": {},
   "outputs": [
    {
     "data": {
      "text/html": [
       "<div>\n",
       "<style scoped>\n",
       "    .dataframe tbody tr th:only-of-type {\n",
       "        vertical-align: middle;\n",
       "    }\n",
       "\n",
       "    .dataframe tbody tr th {\n",
       "        vertical-align: top;\n",
       "    }\n",
       "\n",
       "    .dataframe thead th {\n",
       "        text-align: right;\n",
       "    }\n",
       "</style>\n",
       "<table border=\"1\" class=\"dataframe\">\n",
       "  <thead>\n",
       "    <tr style=\"text-align: right;\">\n",
       "      <th></th>\n",
       "      <th>project_id</th>\n",
       "      <th>project_title</th>\n",
       "      <th>search_query</th>\n",
       "      <th>project_id_kinopoisk</th>\n",
       "      <th>cast_url</th>\n",
       "    </tr>\n",
       "  </thead>\n",
       "  <tbody>\n",
       "    <tr>\n",
       "      <th>0</th>\n",
       "      <td>30</td>\n",
       "      <td>Экстрасенсы ведут расследование</td>\n",
       "      <td>https://www.kinopoisk.ru/index.php?kp_query=Эк...</td>\n",
       "      <td>927654</td>\n",
       "      <td>https://www.kinopoisk.ru/film/927654/cast/</td>\n",
       "    </tr>\n",
       "    <tr>\n",
       "      <th>1</th>\n",
       "      <td>31</td>\n",
       "      <td>Полицейский с Рублёвки</td>\n",
       "      <td>https://www.kinopoisk.ru/index.php?kp_query=По...</td>\n",
       "      <td>913033</td>\n",
       "      <td>https://www.kinopoisk.ru/film/913033/cast/</td>\n",
       "    </tr>\n",
       "  </tbody>\n",
       "</table>\n",
       "</div>"
      ],
      "text/plain": [
       "   project_id                    project_title  \\\n",
       "0          30  Экстрасенсы ведут расследование   \n",
       "1          31           Полицейский с Рублёвки   \n",
       "\n",
       "                                        search_query  project_id_kinopoisk  \\\n",
       "0  https://www.kinopoisk.ru/index.php?kp_query=Эк...                927654   \n",
       "1  https://www.kinopoisk.ru/index.php?kp_query=По...                913033   \n",
       "\n",
       "                                     cast_url  \n",
       "0  https://www.kinopoisk.ru/film/927654/cast/  \n",
       "1  https://www.kinopoisk.ru/film/913033/cast/  "
      ]
     },
     "execution_count": 25,
     "metadata": {},
     "output_type": "execute_result"
    }
   ],
   "source": [
    "project_info2 = pd.read_csv('project_info2.csv')\n",
    "project_info2.head(2)"
   ]
  },
  {
   "cell_type": "code",
   "execution_count": 4,
   "metadata": {},
   "outputs": [],
   "source": [
    "class KinopoiskSpider(scrapy.Spider):\n",
    "    name = \"yandex.help\"\n",
    "    custom_settings = {\n",
    "        'DOWNLOAD_DELAY': 7,\n",
    "        'DOWNLOAD_TIMEOUT' : 30,\n",
    "        'RETRY_ENABLED': False,\n",
    "        #'HTTPPROXY_ENABLED': True\n",
    "    }\n",
    "    \n",
    "    def __init__(self, cast_urls):\n",
    "        super().__init__()\n",
    "        \n",
    "        self.cast_urls = cast_urls\n",
    "        \n",
    "    def start_requests(self):\n",
    "        \n",
    "        urls = self.cast_urls\n",
    "        for url in urls:\n",
    "            yield scrapy.Request(url=url, callback=self.parse)\n",
    "\n",
    "    def parse(self, response):\n",
    "        project_id_kinopoisk = response.url.split(\"/\")[-3]\n",
    "        \n",
    "        #all_names = response.xpath(\"//div[@class='name']//text()\").extract()\n",
    "        #roles = response.xpath(\"//div[@class='dub no_dub dub_first']/preceding-sibling::*[1]//text()\").extract()\n",
    "        #first_role_name = response.xpath(\"//div[@class='dub no_dub dub_first']//div[@class='name']//text()\").extract()       \n",
    "        #all_info = response.xpath(\"normalize-space(//div[@class='block_left']//text())\").extract()\n",
    "        all_info = response.xpath(\"normalize-space(//div[@class='block_left'])\").extract()\n",
    "        \n",
    "        scraped_info = {\n",
    "            'project_id_kinopoisk': project_id_kinopoisk,\n",
    "            'all_info': all_info\n",
    "            #'all_names': all_names,\n",
    "            #'roles': roles,\n",
    "            #'first_role_name': first_role_name,\n",
    "        }\n",
    "        yield scraped_info"
   ]
  },
  {
   "cell_type": "code",
   "execution_count": 5,
   "metadata": {},
   "outputs": [],
   "source": [
    "urls_to_parse = ['https://www.kinopoisk.ru/film/1260090/cast/']"
   ]
  },
  {
   "cell_type": "code",
   "execution_count": null,
   "metadata": {
    "scrolled": true
   },
   "outputs": [],
   "source": [
    "process = CrawlerProcess(settings={\n",
    "    'FEED_FORMAT': 'csv',\n",
    "    'FEED_URI':'data_files/kinopoisk_cast_2019_08_14_13.csv',\n",
    "    #'FEED_URI': 'kinopoisk_cast.csv'\n",
    "})\n",
    "process.crawl(KinopoiskSpider, cast_urls=urls_to_parse)#project_info2['cast_url'].values.tolist())\n",
    "process.start()"
   ]
  },
  {
   "cell_type": "code",
   "execution_count": 2,
   "metadata": {},
   "outputs": [
    {
     "data": {
      "text/html": [
       "<div>\n",
       "<style scoped>\n",
       "    .dataframe tbody tr th:only-of-type {\n",
       "        vertical-align: middle;\n",
       "    }\n",
       "\n",
       "    .dataframe tbody tr th {\n",
       "        vertical-align: top;\n",
       "    }\n",
       "\n",
       "    .dataframe thead th {\n",
       "        text-align: right;\n",
       "    }\n",
       "</style>\n",
       "<table border=\"1\" class=\"dataframe\">\n",
       "  <thead>\n",
       "    <tr style=\"text-align: right;\">\n",
       "      <th></th>\n",
       "      <th>page</th>\n",
       "      <th>all_info</th>\n",
       "    </tr>\n",
       "  </thead>\n",
       "  <tbody>\n",
       "    <tr>\n",
       "      <th>0</th>\n",
       "      <td>913033</td>\n",
       "      <td>var AncherStart = {}; $(function(){ $('div.dub...</td>\n",
       "    </tr>\n",
       "    <tr>\n",
       "      <th>1</th>\n",
       "      <td>584</td>\n",
       "      <td>var AncherStart = {}; $(function(){ $('div.dub...</td>\n",
       "    </tr>\n",
       "    <tr>\n",
       "      <th>2</th>\n",
       "      <td>630165</td>\n",
       "      <td>var AncherStart = {}; $(function(){ $('div.dub...</td>\n",
       "    </tr>\n",
       "    <tr>\n",
       "      <th>3</th>\n",
       "      <td>927654</td>\n",
       "      <td>var AncherStart = {}; $(function(){ $('div.dub...</td>\n",
       "    </tr>\n",
       "    <tr>\n",
       "      <th>4</th>\n",
       "      <td>1049171</td>\n",
       "      <td>var AncherStart = {}; $(function(){ $('div.dub...</td>\n",
       "    </tr>\n",
       "  </tbody>\n",
       "</table>\n",
       "</div>"
      ],
      "text/plain": [
       "      page                                           all_info\n",
       "0   913033  var AncherStart = {}; $(function(){ $('div.dub...\n",
       "1      584  var AncherStart = {}; $(function(){ $('div.dub...\n",
       "2   630165  var AncherStart = {}; $(function(){ $('div.dub...\n",
       "3   927654  var AncherStart = {}; $(function(){ $('div.dub...\n",
       "4  1049171  var AncherStart = {}; $(function(){ $('div.dub..."
      ]
     },
     "execution_count": 2,
     "metadata": {},
     "output_type": "execute_result"
    }
   ],
   "source": [
    "kinopoisk_cast = pd.read_csv('kinopoisk_cast.csv')\n",
    "kinopoisk_cast.head()"
   ]
  },
  {
   "cell_type": "raw",
   "metadata": {},
   "source": [
    "data['all_info'] = data['all_info'].apply(lambda x: x.lower())\n",
    "\n",
    "person_re = re.compile(r'\\d+\\. \\w+ \\w+')\n",
    "role_re = re.compile(r'\\w+ 1\\. \\w+ \\w+')\n",
    "\n",
    "data['all_persons'] = data['all_info'].apply(lambda x: re.findall(person_re, x))\n",
    "data['role_first_name'] = data['all_info'].apply(lambda x: re.findall(role_re, x))"
   ]
  },
  {
   "cell_type": "code",
   "execution_count": 6,
   "metadata": {},
   "outputs": [],
   "source": [
    "current_str = kinopoisk_cast['all_info'].iloc[0]"
   ]
  },
  {
   "cell_type": "code",
   "execution_count": 8,
   "metadata": {},
   "outputs": [],
   "source": [
    "    old_key_words = ['режиссеры', 'актеры', 'продюсеры',\n",
    "                     'режиссеры дубляжа', 'переводчики', 'актеры дубляжа',\n",
    "                     'сценаристы', 'операторы','композиторы',\n",
    "                     'художники', 'монтажеры']\n",
    "    key_words = ['режиссер', 'актер', 'продюсер', \n",
    "                 'режиссер дубляжа', 'переводчик', 'актер дубляжа',\n",
    "                 'сценарист', 'оператор','композитор',\n",
    "                 'художник', 'монтажер']\n",
    "    replace_key_words = dict(zip(old_key_words, key_words))\n",
    "    temp_str = current_str.lower()\n",
    "    \n",
    "    cut_point_re = re.compile(r'режиссер 1')\n",
    "    search_res = re.search(cut_point_re, temp_str)\n",
    "    if search_res is not None:\n",
    "        cut_point = search_res.span()[0]\n",
    "        temp_str = temp_str[cut_point:]\n",
    "    \n",
    "    for word in replace_key_words:\n",
    "        temp_str = temp_str.replace(word, replace_key_words[word])"
   ]
  },
  {
   "cell_type": "code",
   "execution_count": 9,
   "metadata": {},
   "outputs": [],
   "source": [
    "    # start and end indicies of keyword  \n",
    "    key_word_inds = {}\n",
    "\n",
    "    for word in key_words:\n",
    "        temp_re = re.compile(word + ' 1')\n",
    "        inds_res = re.search(temp_re, temp_str)\n",
    "        if inds_res is not None:\n",
    "            key_word_inds[word] = inds_res.span()\n",
    "\n",
    "    key_word_inds_sorted = sorted(key_word_inds.items(), key=lambda kv: kv[1][0])  "
   ]
  },
  {
   "cell_type": "code",
   "execution_count": 10,
   "metadata": {},
   "outputs": [
    {
     "data": {
      "text/plain": [
       "[('режиссер', (0, 10)),\n",
       " ('актер', (27, 34)),\n",
       " ('продюсер', (2517, 2527)),\n",
       " ('актер дубляжа', (2625, 2640)),\n",
       " ('сценарист', (2665, 2676)),\n",
       " ('оператор', (2693, 2703)),\n",
       " ('композитор', (2756, 2768)),\n",
       " ('художник', (2790, 2800)),\n",
       " ('монтажер', (2912, 2922))]"
      ]
     },
     "execution_count": 10,
     "metadata": {},
     "output_type": "execute_result"
    }
   ],
   "source": [
    "key_word_inds_sorted"
   ]
  },
  {
   "cell_type": "code",
   "execution_count": 17,
   "metadata": {},
   "outputs": [
    {
     "data": {
      "text/plain": [
       "'монтажер 1'"
      ]
     },
     "execution_count": 17,
     "metadata": {},
     "output_type": "execute_result"
    }
   ],
   "source": [
    "temp_str[2912:2922]"
   ]
  },
  {
   "cell_type": "code",
   "execution_count": 18,
   "metadata": {},
   "outputs": [
    {
     "data": {
      "text/plain": [
       "'1. степан гордеев \\xa0 2. игорь абидов \\xa0'"
      ]
     },
     "execution_count": 18,
     "metadata": {},
     "output_type": "execute_result"
    }
   ],
   "source": [
    "temp_str[2921:]"
   ]
  },
  {
   "cell_type": "code",
   "execution_count": 19,
   "metadata": {},
   "outputs": [
    {
     "data": {
      "text/plain": [
       "2958"
      ]
     },
     "execution_count": 19,
     "metadata": {},
     "output_type": "execute_result"
    }
   ],
   "source": [
    "len(temp_str)"
   ]
  },
  {
   "cell_type": "code",
   "execution_count": 13,
   "metadata": {},
   "outputs": [
    {
     "data": {
      "text/plain": [
       "9"
      ]
     },
     "execution_count": 13,
     "metadata": {},
     "output_type": "execute_result"
    }
   ],
   "source": [
    "len(key_word_inds_sorted)"
   ]
  },
  {
   "cell_type": "code",
   "execution_count": 15,
   "metadata": {},
   "outputs": [
    {
     "data": {
      "text/plain": [
       "('монтажер', (2912, 2922))"
      ]
     },
     "execution_count": 15,
     "metadata": {},
     "output_type": "execute_result"
    }
   ],
   "source": [
    "key_word_inds_sorted[8]"
   ]
  },
  {
   "cell_type": "code",
   "execution_count": 20,
   "metadata": {},
   "outputs": [],
   "source": [
    "    key_word_list = {}\n",
    "    person_re = re.compile(r'\\d+\\. \\w+ \\w+')\n",
    "\n",
    "    for ind in range(len(key_word_inds_sorted)):\n",
    "        if ind > 0:\n",
    "            #print(ind-1, ind)\n",
    "            kw = key_word_inds_sorted[ind-1][0]\n",
    "            start_ind = key_word_inds_sorted[ind-1][1][1]-1\n",
    "            end_ind = key_word_inds_sorted[ind][1][0]-1\n",
    "            #print(kw, start_ind, end_ind)\n",
    "            \n",
    "            temp_persons = re.findall(person_re, temp_str[start_ind:end_ind])\n",
    "            temp_persons = [p.split('. ')[1] for p in temp_persons]\n",
    "            key_word_list[kw] = temp_persons\n",
    "        if ind == len(key_word_inds_sorted)-1:\n",
    "            kw = key_word_inds_sorted[ind][0]\n",
    "            start_ind = key_word_inds_sorted[ind][1][1]-1\n",
    "            \n",
    "            temp_persons = re.findall(person_re, temp_str[start_ind:])\n",
    "            temp_persons = [p.split('. ')[1] for p in temp_persons]\n",
    "            key_word_list[kw] = temp_persons                      "
   ]
  },
  {
   "cell_type": "code",
   "execution_count": 21,
   "metadata": {
    "collapsed": true
   },
   "outputs": [
    {
     "data": {
      "text/plain": [
       "{'режиссер': ['илья куликов'],\n",
       " 'актер': ['александр петров',\n",
       "  'сергей бурунов',\n",
       "  'татьяна бабенкова',\n",
       "  'софия каштанова',\n",
       "  'роман попов',\n",
       "  'александра бортич',\n",
       "  'анна котова',\n",
       "  'ростислав гулбис',\n",
       "  'сергей штатнов',\n",
       "  'сергей журавлев',\n",
       "  'владимир бутенко',\n",
       "  'мария староторжская',\n",
       "  'лилия лаврова',\n",
       "  'анастасия стежко',\n",
       "  'виктория тарасова',\n",
       "  'сергей калашников',\n",
       "  'евгений левочкин',\n",
       "  'николай соловьев',\n",
       "  'карина реука',\n",
       "  'михаил шамигулов',\n",
       "  'николай лунин',\n",
       "  'татьяна мошкова',\n",
       "  'илья лукашенко',\n",
       "  'владимир рузанов',\n",
       "  'михаил богдасаров',\n",
       "  'константин тополага',\n",
       "  'светлана суханова',\n",
       "  'наиль абдрахманов',\n",
       "  'маруся климова',\n",
       "  'павел галич',\n",
       "  'иван кравченко',\n",
       "  'ольга вербицкая',\n",
       "  'юрий брешин',\n",
       "  'александр воробьев',\n",
       "  'владимир колида',\n",
       "  'андрей лебедев',\n",
       "  'татьяна филатова',\n",
       "  'максим костромыкин',\n",
       "  'павел чукреев',\n",
       "  'светлана нехороших',\n",
       "  'василий шемякинский',\n",
       "  'сергей крапивенцев',\n",
       "  'дарья погодина',\n",
       "  'александра виноградова',\n",
       "  'игорь шаройко',\n",
       "  'вячеслав щенин',\n",
       "  'кирилл ермичев',\n",
       "  'александр туравинин',\n",
       "  'виталий альшанский',\n",
       "  'антон михайленко',\n",
       "  'вячеслав василюк',\n",
       "  'анна агеева',\n",
       "  'нелла стрекаловская',\n",
       "  'елена блинникова',\n",
       "  'дмитрий буренков',\n",
       "  'татьяна никич',\n",
       "  'михаил токмовцев',\n",
       "  'олег чернигов',\n",
       "  'карина зверева',\n",
       "  'сара окс',\n",
       "  'лилия буркова',\n",
       "  'никита легостев',\n",
       "  'юлия богатикова',\n",
       "  'ирина друзь',\n",
       "  'александр дерепко',\n",
       "  'лилия багирова',\n",
       "  'вячеслав морозов'],\n",
       " 'продюсер': ['валерий федорович',\n",
       "  'евгений никишов',\n",
       "  'игорь мишин',\n",
       "  'илья куликов',\n",
       "  'андрей семенов'],\n",
       " 'актер дубляжа': ['татьяна шитова'],\n",
       " 'сценарист': ['илья куликов'],\n",
       " 'оператор': ['александр симонов', 'кирилл бобров'],\n",
       " 'композитор': ['александр соколов'],\n",
       " 'художник': ['александр жульков', 'сергей телин', 'татьяна шаповалова'],\n",
       " 'монтажер': ['степан гордеев', 'игорь абидов']}"
      ]
     },
     "execution_count": 21,
     "metadata": {},
     "output_type": "execute_result"
    }
   ],
   "source": [
    "key_word_list"
   ]
  },
  {
   "cell_type": "code",
   "execution_count": 28,
   "metadata": {},
   "outputs": [],
   "source": [
    "def parse_str_to_persons(current_str):\n",
    "\n",
    "    old_key_words = ['режиссеры', 'актеры', 'продюсеры',\n",
    "                     'режиссеры дубляжа', 'переводчики', 'актеры дубляжа',\n",
    "                     'сценаристы', 'операторы','композиторы',\n",
    "                     'художники', 'художники-постановщики', 'монтажеры']\n",
    "    key_words = ['режиссер', 'актер', 'продюсер', \n",
    "                 'режиссер дубляжа', 'переводчик', 'актер дубляжа',\n",
    "                 'сценарист', 'оператор','композитор',\n",
    "                 'художник', 'художник-постановщик', 'монтажер']\n",
    "    replace_key_words = dict(zip(old_key_words, key_words))\n",
    "    temp_str = current_str.lower()\n",
    "    \n",
    "    # cut header\n",
    "    cut_point_re = re.compile(r'режиссер 1')\n",
    "    search_res = re.search(cut_point_re, temp_str)\n",
    "    if search_res is not None:\n",
    "        cut_point = search_res.span()[0]\n",
    "        temp_str = temp_str[cut_point:]\n",
    "    \n",
    "    # change key words\n",
    "    for word in replace_key_words:\n",
    "        temp_str = temp_str.replace(word, replace_key_words[word])\n",
    "\n",
    "    # start and end indicies of keyword  \n",
    "    key_word_inds = {}\n",
    "    for word in key_words:\n",
    "        temp_re = re.compile(word + ' 1')\n",
    "        inds_res = re.search(temp_re, temp_str)\n",
    "        if inds_res is not None:\n",
    "            key_word_inds[word] = inds_res.span()\n",
    "\n",
    "    key_word_inds_sorted = sorted(key_word_inds.items(), key=lambda kv: kv[1][0])   \n",
    "    key_word_list = {}\n",
    "    person_re = re.compile(r'\\d+\\. \\w+ \\w+')\n",
    "    # get persons from string\n",
    "    for ind in range(len(key_word_inds_sorted)):\n",
    "        if ind > 0:\n",
    "            kw = key_word_inds_sorted[ind-1][0]\n",
    "            start_ind = key_word_inds_sorted[ind-1][1][1]-1\n",
    "            end_ind = key_word_inds_sorted[ind][1][0]-1\n",
    "            # cut part of string\n",
    "            temp_persons = re.findall(person_re, temp_str[start_ind:end_ind])\n",
    "            temp_persons = [p.split('. ')[1] for p in temp_persons]\n",
    "            key_word_list[kw] = temp_persons\n",
    "        if ind == len(key_word_inds_sorted)-1:\n",
    "            kw = key_word_inds_sorted[ind][0]\n",
    "            start_ind = key_word_inds_sorted[ind][1][1]-1\n",
    "            # cut part of string\n",
    "            temp_persons = re.findall(person_re, temp_str[start_ind:])\n",
    "            temp_persons = [p.split('. ')[1] for p in temp_persons]\n",
    "            key_word_list[kw] = temp_persons  \n",
    "    # transform into list     \n",
    "    person_role = []\n",
    "    for role in key_word_list:\n",
    "        for person in key_word_list[role]:\n",
    "            person_role.append((person, role))\n",
    "            \n",
    "    return person_role"
   ]
  },
  {
   "cell_type": "code",
   "execution_count": 29,
   "metadata": {},
   "outputs": [],
   "source": [
    "kinopoisk_cast['person_role_list'] = kinopoisk_cast['all_info'].apply(lambda x: parse_str_to_persons(x))\n",
    "kinopoisk_cast = kinopoisk_cast.rename(columns={'page':'project_id_kinopoisk'})"
   ]
  },
  {
   "cell_type": "code",
   "execution_count": 30,
   "metadata": {},
   "outputs": [
    {
     "data": {
      "text/html": [
       "<div>\n",
       "<style scoped>\n",
       "    .dataframe tbody tr th:only-of-type {\n",
       "        vertical-align: middle;\n",
       "    }\n",
       "\n",
       "    .dataframe tbody tr th {\n",
       "        vertical-align: top;\n",
       "    }\n",
       "\n",
       "    .dataframe thead th {\n",
       "        text-align: right;\n",
       "    }\n",
       "</style>\n",
       "<table border=\"1\" class=\"dataframe\">\n",
       "  <thead>\n",
       "    <tr style=\"text-align: right;\">\n",
       "      <th></th>\n",
       "      <th>project_id_kinopoisk</th>\n",
       "      <th>all_info</th>\n",
       "      <th>person_role_list</th>\n",
       "    </tr>\n",
       "  </thead>\n",
       "  <tbody>\n",
       "    <tr>\n",
       "      <th>0</th>\n",
       "      <td>913033</td>\n",
       "      <td>var AncherStart = {}; $(function(){ $('div.dub...</td>\n",
       "      <td>[(илья куликов, режиссер), (александр петров, ...</td>\n",
       "    </tr>\n",
       "    <tr>\n",
       "      <th>1</th>\n",
       "      <td>584</td>\n",
       "      <td>var AncherStart = {}; $(function(){ $('div.dub...</td>\n",
       "      <td>[(спайк джонс, режиссер), (николас кейдж, акте...</td>\n",
       "    </tr>\n",
       "    <tr>\n",
       "      <th>2</th>\n",
       "      <td>630165</td>\n",
       "      <td>var AncherStart = {}; $(function(){ $('div.dub...</td>\n",
       "      <td>[(константин смирнов, режиссер), (максим зыков...</td>\n",
       "    </tr>\n",
       "    <tr>\n",
       "      <th>3</th>\n",
       "      <td>927654</td>\n",
       "      <td>var AncherStart = {}; $(function(){ $('div.dub...</td>\n",
       "      <td>[(мария шайкевич, продюсер), (владимир спиринк...</td>\n",
       "    </tr>\n",
       "    <tr>\n",
       "      <th>4</th>\n",
       "      <td>1049171</td>\n",
       "      <td>var AncherStart = {}; $(function(){ $('div.dub...</td>\n",
       "      <td>[(жанна кадникова, режиссер), (николай бурлак,...</td>\n",
       "    </tr>\n",
       "  </tbody>\n",
       "</table>\n",
       "</div>"
      ],
      "text/plain": [
       "   project_id_kinopoisk                                           all_info  \\\n",
       "0                913033  var AncherStart = {}; $(function(){ $('div.dub...   \n",
       "1                   584  var AncherStart = {}; $(function(){ $('div.dub...   \n",
       "2                630165  var AncherStart = {}; $(function(){ $('div.dub...   \n",
       "3                927654  var AncherStart = {}; $(function(){ $('div.dub...   \n",
       "4               1049171  var AncherStart = {}; $(function(){ $('div.dub...   \n",
       "\n",
       "                                    person_role_list  \n",
       "0  [(илья куликов, режиссер), (александр петров, ...  \n",
       "1  [(спайк джонс, режиссер), (николас кейдж, акте...  \n",
       "2  [(константин смирнов, режиссер), (максим зыков...  \n",
       "3  [(мария шайкевич, продюсер), (владимир спиринк...  \n",
       "4  [(жанна кадникова, режиссер), (николай бурлак,...  "
      ]
     },
     "execution_count": 30,
     "metadata": {},
     "output_type": "execute_result"
    }
   ],
   "source": [
    "kinopoisk_cast.head()"
   ]
  },
  {
   "cell_type": "code",
   "execution_count": 31,
   "metadata": {},
   "outputs": [
    {
     "data": {
      "text/html": [
       "<div>\n",
       "<style scoped>\n",
       "    .dataframe tbody tr th:only-of-type {\n",
       "        vertical-align: middle;\n",
       "    }\n",
       "\n",
       "    .dataframe tbody tr th {\n",
       "        vertical-align: top;\n",
       "    }\n",
       "\n",
       "    .dataframe thead th {\n",
       "        text-align: right;\n",
       "    }\n",
       "</style>\n",
       "<table border=\"1\" class=\"dataframe\">\n",
       "  <thead>\n",
       "    <tr style=\"text-align: right;\">\n",
       "      <th></th>\n",
       "      <th>project_id</th>\n",
       "      <th>project_title</th>\n",
       "      <th>search_query</th>\n",
       "      <th>project_id_kinopoisk</th>\n",
       "      <th>cast_url</th>\n",
       "      <th>person_role_list</th>\n",
       "    </tr>\n",
       "  </thead>\n",
       "  <tbody>\n",
       "    <tr>\n",
       "      <th>0</th>\n",
       "      <td>30</td>\n",
       "      <td>Экстрасенсы ведут расследование</td>\n",
       "      <td>https://www.kinopoisk.ru/index.php?kp_query=Эк...</td>\n",
       "      <td>927654</td>\n",
       "      <td>https://www.kinopoisk.ru/film/927654/cast/</td>\n",
       "      <td>[(мария шайкевич, продюсер), (владимир спиринк...</td>\n",
       "    </tr>\n",
       "    <tr>\n",
       "      <th>1</th>\n",
       "      <td>31</td>\n",
       "      <td>Полицейский с Рублёвки</td>\n",
       "      <td>https://www.kinopoisk.ru/index.php?kp_query=По...</td>\n",
       "      <td>913033</td>\n",
       "      <td>https://www.kinopoisk.ru/film/913033/cast/</td>\n",
       "      <td>[(илья куликов, режиссер), (александр петров, ...</td>\n",
       "    </tr>\n",
       "    <tr>\n",
       "      <th>2</th>\n",
       "      <td>32</td>\n",
       "      <td>Школа ремонта</td>\n",
       "      <td>https://www.kinopoisk.ru/index.php?kp_query=Шк...</td>\n",
       "      <td>916853</td>\n",
       "      <td>https://www.kinopoisk.ru/film/916853/cast/</td>\n",
       "      <td>[(владимир чайченко, режиссер), (александр гри...</td>\n",
       "    </tr>\n",
       "    <tr>\n",
       "      <th>3</th>\n",
       "      <td>33</td>\n",
       "      <td>Ольга</td>\n",
       "      <td>https://www.kinopoisk.ru/index.php?kp_query=Ольга</td>\n",
       "      <td>940680</td>\n",
       "      <td>https://www.kinopoisk.ru/film/940680/cast/</td>\n",
       "      <td>[(алексей нужный, режиссер), (игорь волошин, р...</td>\n",
       "    </tr>\n",
       "    <tr>\n",
       "      <th>4</th>\n",
       "      <td>34</td>\n",
       "      <td>Адаптация</td>\n",
       "      <td>https://www.kinopoisk.ru/index.php?kp_query=Ад...</td>\n",
       "      <td>584</td>\n",
       "      <td>https://www.kinopoisk.ru/film/584/cast/</td>\n",
       "      <td>[(спайк джонс, режиссер), (николас кейдж, акте...</td>\n",
       "    </tr>\n",
       "  </tbody>\n",
       "</table>\n",
       "</div>"
      ],
      "text/plain": [
       "   project_id                    project_title  \\\n",
       "0          30  Экстрасенсы ведут расследование   \n",
       "1          31           Полицейский с Рублёвки   \n",
       "2          32                    Школа ремонта   \n",
       "3          33                            Ольга   \n",
       "4          34                        Адаптация   \n",
       "\n",
       "                                        search_query  project_id_kinopoisk  \\\n",
       "0  https://www.kinopoisk.ru/index.php?kp_query=Эк...                927654   \n",
       "1  https://www.kinopoisk.ru/index.php?kp_query=По...                913033   \n",
       "2  https://www.kinopoisk.ru/index.php?kp_query=Шк...                916853   \n",
       "3  https://www.kinopoisk.ru/index.php?kp_query=Ольга                940680   \n",
       "4  https://www.kinopoisk.ru/index.php?kp_query=Ад...                   584   \n",
       "\n",
       "                                     cast_url  \\\n",
       "0  https://www.kinopoisk.ru/film/927654/cast/   \n",
       "1  https://www.kinopoisk.ru/film/913033/cast/   \n",
       "2  https://www.kinopoisk.ru/film/916853/cast/   \n",
       "3  https://www.kinopoisk.ru/film/940680/cast/   \n",
       "4     https://www.kinopoisk.ru/film/584/cast/   \n",
       "\n",
       "                                    person_role_list  \n",
       "0  [(мария шайкевич, продюсер), (владимир спиринк...  \n",
       "1  [(илья куликов, режиссер), (александр петров, ...  \n",
       "2  [(владимир чайченко, режиссер), (александр гри...  \n",
       "3  [(алексей нужный, режиссер), (игорь волошин, р...  \n",
       "4  [(спайк джонс, режиссер), (николас кейдж, акте...  "
      ]
     },
     "execution_count": 31,
     "metadata": {},
     "output_type": "execute_result"
    }
   ],
   "source": [
    "result_table = project_info2.merge(kinopoisk_cast[['project_id_kinopoisk', 'person_role_list']],\n",
    "                    how='left', on=['project_id_kinopoisk'])\n",
    "result_table.head()"
   ]
  },
  {
   "cell_type": "code",
   "execution_count": 32,
   "metadata": {},
   "outputs": [],
   "source": [
    "result_table.to_csv('parsing_result_2019_07_26.csv', index=False, header=True)"
   ]
  },
  {
   "cell_type": "code",
   "execution_count": null,
   "metadata": {},
   "outputs": [],
   "source": []
  }
 ],
 "metadata": {
  "kernelspec": {
   "display_name": "Python 3 (ipykernel)",
   "language": "python",
   "name": "python3"
  },
  "language_info": {
   "codemirror_mode": {
    "name": "ipython",
    "version": 3
   },
   "file_extension": ".py",
   "mimetype": "text/x-python",
   "name": "python",
   "nbconvert_exporter": "python",
   "pygments_lexer": "ipython3",
   "version": "3.11.1"
  },
  "toc": {
   "base_numbering": 1,
   "nav_menu": {},
   "number_sections": true,
   "sideBar": true,
   "skip_h1_title": false,
   "title_cell": "Table of Contents",
   "title_sidebar": "Contents",
   "toc_cell": false,
   "toc_position": {},
   "toc_section_display": true,
   "toc_window_display": false
  },
  "varInspector": {
   "cols": {
    "lenName": 16,
    "lenType": 16,
    "lenVar": 40
   },
   "kernels_config": {
    "python": {
     "delete_cmd_postfix": "",
     "delete_cmd_prefix": "del ",
     "library": "var_list.py",
     "varRefreshCmd": "print(var_dic_list())"
    },
    "r": {
     "delete_cmd_postfix": ") ",
     "delete_cmd_prefix": "rm(",
     "library": "var_list.r",
     "varRefreshCmd": "cat(var_dic_list()) "
    }
   },
   "types_to_exclude": [
    "module",
    "function",
    "builtin_function_or_method",
    "instance",
    "_Feature"
   ],
   "window_display": false
  }
 },
 "nbformat": 4,
 "nbformat_minor": 2
}
